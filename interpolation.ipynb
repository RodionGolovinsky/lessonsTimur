{
 "cells": [
  {
   "cell_type": "code",
   "execution_count": 23,
   "metadata": {
    "collapsed": true,
    "ExecuteTime": {
     "end_time": "2023-10-27T16:39:05.178053Z",
     "start_time": "2023-10-27T16:39:05.175701Z"
    }
   },
   "outputs": [],
   "source": [
    "import os\n",
    "import matplotlib.pyplot as plt\n",
    "import pandas as pd\n",
    "from tqdm import tqdm"
   ]
  },
  {
   "cell_type": "code",
   "execution_count": 24,
   "outputs": [],
   "source": [
    "def parse_file(path_file):\n",
    "    with open(path_file, 'rb') as f:\n",
    "        data = f.readlines()\n",
    "    voltage_list = []\n",
    "    current_list = []\n",
    "    for number, string in tqdm(enumerate(data[8:]), total=len(data[8:])):\n",
    "        clean_string = str(str(string).split(\"'\")[1]).rstrip().strip().replace(\"\\\\n\", '')\n",
    "        voltage = clean_string.split(',')[0]\n",
    "        current = clean_string.split(',')[1]\n",
    "        voltage_list.append(float(voltage))\n",
    "        current_list.append(float(current))\n",
    "    tables, last_index = [], 0\n",
    "    for i in range(len(voltage_list)):\n",
    "        if (voltage_list[i] == 1.0) & (i != 0):\n",
    "            tables.append(pd.DataFrame({'current': current_list[last_index:i],\n",
    "                                        'voltage': voltage_list[last_index:i]}))\n",
    "            last_index = i\n",
    "    return tables"
   ],
   "metadata": {
    "collapsed": false,
    "ExecuteTime": {
     "end_time": "2023-10-27T16:39:05.183062Z",
     "start_time": "2023-10-27T16:39:05.181255Z"
    }
   }
  },
  {
   "cell_type": "code",
   "execution_count": 25,
   "outputs": [
    {
     "name": "stderr",
     "output_type": "stream",
     "text": [
      "  0%|          | 0/13 [00:00<?, ?it/s]\n",
      "  0%|          | 0/232208 [00:00<?, ?it/s]\u001B[A\n",
      " 32%|███▏      | 73676/232208 [00:00<00:00, 736725.57it/s]\u001B[A\n",
      " 65%|██████▍   | 150010/232208 [00:00<00:00, 752084.85it/s]\u001B[A\n",
      "100%|██████████| 232208/232208 [00:00<00:00, 747473.84it/s]\u001B[A\n",
      " 31%|███       | 4/13 [00:00<00:01,  8.48it/s]\n",
      "  0%|          | 0/235335 [00:00<?, ?it/s]\u001B[A\n",
      " 31%|███▏      | 73826/235335 [00:00<00:00, 738244.86it/s]\u001B[A\n",
      " 64%|██████▍   | 150846/235335 [00:00<00:00, 757015.73it/s]\u001B[A\n",
      "100%|██████████| 235335/235335 [00:00<00:00, 751878.26it/s]\u001B[A\n",
      " 54%|█████▍    | 7/13 [00:00<00:00,  7.78it/s]\n",
      "  0%|          | 0/238829 [00:00<?, ?it/s]\u001B[A\n",
      " 31%|███       | 73934/238829 [00:00<00:00, 739287.83it/s]\u001B[A\n",
      " 63%|██████▎   | 149631/238829 [00:00<00:00, 749671.35it/s]\u001B[A\n",
      "100%|██████████| 238829/238829 [00:00<00:00, 744964.83it/s]\u001B[A\n",
      " 62%|██████▏   | 8/13 [00:01<00:00,  5.35it/s]\n",
      "  0%|          | 0/245462 [00:00<?, ?it/s]\u001B[A\n",
      " 30%|███       | 74126/245462 [00:00<00:00, 741214.76it/s]\u001B[A\n",
      " 61%|██████▏   | 150735/245462 [00:00<00:00, 755834.59it/s]\u001B[A\n",
      "100%|██████████| 245462/245462 [00:00<00:00, 749145.92it/s]\u001B[A\n",
      " 69%|██████▉   | 9/13 [00:01<00:00,  4.14it/s]\n",
      "  0%|          | 0/251156 [00:00<?, ?it/s]\u001B[A\n",
      " 29%|██▉       | 73658/251156 [00:00<00:00, 736557.87it/s]\u001B[A\n",
      " 60%|█████▉    | 150329/251156 [00:00<00:00, 754273.47it/s]\u001B[A\n",
      "100%|██████████| 251156/251156 [00:00<00:00, 753050.75it/s]\u001B[A\n",
      " 77%|███████▋  | 10/13 [00:02<00:00,  3.29it/s]\n",
      "  0%|          | 0/236466 [00:00<?, ?it/s]\u001B[A\n",
      " 32%|███▏      | 74928/236466 [00:00<00:00, 749236.06it/s]\u001B[A\n",
      " 65%|██████▍   | 153260/236466 [00:00<00:00, 769267.04it/s]\u001B[A\n",
      "100%|██████████| 236466/236466 [00:00<00:00, 761867.31it/s]\u001B[A\n",
      " 85%|████████▍ | 11/13 [00:02<00:00,  3.02it/s]\n",
      "  0%|          | 0/247263 [00:00<?, ?it/s]\u001B[A\n",
      " 30%|███       | 74518/247263 [00:00<00:00, 745136.30it/s]\u001B[A\n",
      " 61%|██████    | 149846/247263 [00:00<00:00, 749912.29it/s]\u001B[A\n",
      "100%|██████████| 247263/247263 [00:00<00:00, 750159.45it/s]\u001B[A\n",
      "100%|██████████| 13/13 [00:03<00:00,  4.19it/s]"
     ]
    },
    {
     "name": "stdout",
     "output_type": "stream",
     "text": [
      "6993\n",
      "6993\n"
     ]
    },
    {
     "name": "stderr",
     "output_type": "stream",
     "text": [
      "\n"
     ]
    }
   ],
   "source": [
    "import os\n",
    "import numpy as np\n",
    "all_tables = []\n",
    "all_labels = []\n",
    "dir_path = '/Users/rodiongolovinsky/Downloads/data/external/generated_dataset_version_1'\n",
    "for file in tqdm(os.listdir(dir_path)):\n",
    "    if file.endswith('all_solutions.txt'):\n",
    "        low_conc = float(file.split(\"_\")[1])\n",
    "        high_conc = float(file.split(\"_\")[2])\n",
    "        for amount, one in enumerate(parse_file(os.path.join(dir_path, file))):\n",
    "            all_tables.append(one)\n",
    "        range_conc = np.linspace(low_conc, high_conc, num=amount+1)\n",
    "        for conc in range_conc:\n",
    "            all_labels.append(conc)\n",
    "print(len(all_tables))\n",
    "print(len(all_labels))"
   ],
   "metadata": {
    "collapsed": false,
    "ExecuteTime": {
     "end_time": "2023-10-27T16:39:08.309708Z",
     "start_time": "2023-10-27T16:39:05.202816Z"
    }
   }
  },
  {
   "cell_type": "code",
   "execution_count": 26,
   "outputs": [
    {
     "data": {
      "text/plain": "(280, 212)"
     },
     "execution_count": 26,
     "metadata": {},
     "output_type": "execute_result"
    }
   ],
   "source": [
    "lengths = []\n",
    "\n",
    "for table in all_tables:\n",
    "    if len(table) == 213:\n",
    "        MINIMUM = table\n",
    "    if len(table) == 280:\n",
    "        MAXIMUM = table\n",
    "    lengths.append(len(table))\n",
    "max(lengths), min(lengths)"
   ],
   "metadata": {
    "collapsed": false,
    "ExecuteTime": {
     "end_time": "2023-10-27T16:39:08.319923Z",
     "start_time": "2023-10-27T16:39:08.308902Z"
    }
   }
  },
  {
   "cell_type": "code",
   "execution_count": 27,
   "outputs": [
    {
     "data": {
      "text/plain": "<matplotlib.collections.PathCollection at 0x11fa2f070>"
     },
     "execution_count": 27,
     "metadata": {},
     "output_type": "execute_result"
    },
    {
     "data": {
      "text/plain": "<Figure size 640x480 with 1 Axes>",
      "image/png": "[encoded data removed]"
     },
     "metadata": {},
     "output_type": "display_data"
    }
   ],
   "source": [
    "import matplotlib.pyplot as plt\n",
    "\n",
    "plt.scatter(MAXIMUM['voltage'], MAXIMUM['current'])"
   ],
   "metadata": {
    "collapsed": false,
    "ExecuteTime": {
     "end_time": "2023-10-27T16:39:08.408055Z",
     "start_time": "2023-10-27T16:39:08.322581Z"
    }
   }
  },
  {
   "cell_type": "code",
   "execution_count": 28,
   "outputs": [
    {
     "data": {
      "text/plain": "-0.9999970346468522"
     },
     "execution_count": 28,
     "metadata": {},
     "output_type": "execute_result"
    }
   ],
   "source": [
    "min(MINIMUM.voltage)"
   ],
   "metadata": {
    "collapsed": false,
    "ExecuteTime": {
     "end_time": "2023-10-27T16:39:08.412688Z",
     "start_time": "2023-10-27T16:39:08.409963Z"
    }
   }
  },
  {
   "cell_type": "code",
   "execution_count": 37,
   "outputs": [],
   "source": [
    "import numpy as np\n",
    "from scipy.interpolate import interp1d\n",
    "\n",
    "\n",
    "def interpolation_for_cycle(df):\n",
    "    difference = 280 - len(df)\n",
    "    if difference == 0:\n",
    "        return df\n",
    "    elif difference != 0:\n",
    "        half_one = round(difference / 2)\n",
    "        half_two = difference - half_one\n",
    "        voltage = df.voltage.tolist()\n",
    "        current = df.current.tolist()\n",
    "        low_index = [i for i, v in enumerate(df.voltage.tolist()[10:50]) if v < -0.5][-1]\n",
    "        high_index = [i for i, v in enumerate(df.voltage.tolist()[67:200]) if v > -0.5][-1]\n",
    "        cubic_interpoloate_function_low = interp1d(voltage[1:50], current[1:50], kind='cubic')\n",
    "        cubic_interpoloate_function_high = interp1d(voltage[90:200], current[90:200], kind='cubic')\n",
    "        xnew_low = np.linspace(-0.5, 0.90, num=half_one, endpoint=True)\n",
    "        xnew_high = np.linspace(-0.5, 0.25, num=half_two, endpoint=True)\n",
    "        ynew_low = cubic_interpoloate_function_low(xnew_low)\n",
    "        ynew_high = cubic_interpoloate_function_high(xnew_high)\n",
    "        for volt, curr in zip(xnew_low, ynew_low):\n",
    "            voltage.insert(low_index, volt)\n",
    "            current.insert(low_index, curr)\n",
    "            low_index += 1\n",
    "        for volt, curr in zip(xnew_high, ynew_high):\n",
    "            voltage.insert(high_index, volt)\n",
    "            current.insert(high_index, curr)\n",
    "            high_index += 1\n",
    "        # plt.plot(voltage, current, 'o', xnew_low, ynew_low, '--', xnew_high, ynew_high, '-')\n",
    "        # plt.legend(['Original Data', 'Cubic Interpolate'], loc='best')\n",
    "        return pd.DataFrame(data={'voltage': voltage, 'current': current})"
   ],
   "metadata": {
    "collapsed": false,
    "ExecuteTime": {
     "end_time": "2023-10-27T16:41:58.043720Z",
     "start_time": "2023-10-27T16:41:58.039501Z"
    }
   }
  },
  {
   "cell_type": "code",
   "execution_count": 38,
   "outputs": [
    {
     "ename": "ValueError",
     "evalue": "Expect x to not have duplicates",
     "output_type": "error",
     "traceback": [
      "\u001B[0;31m---------------------------------------------------------------------------\u001B[0m",
      "\u001B[0;31mValueError\u001B[0m                                Traceback (most recent call last)",
      "Cell \u001B[0;32mIn[38], line 4\u001B[0m\n\u001B[1;32m      2\u001B[0m result_rows \u001B[38;5;241m=\u001B[39m []\n\u001B[1;32m      3\u001B[0m \u001B[38;5;28;01mfor\u001B[39;00m table \u001B[38;5;129;01min\u001B[39;00m all_tables:\n\u001B[0;32m----> 4\u001B[0m     result_rows\u001B[38;5;241m.\u001B[39mappend(\u001B[43minterpolation_for_cycle\u001B[49m\u001B[43m(\u001B[49m\u001B[43mtable\u001B[49m\u001B[43m)\u001B[49m[\u001B[38;5;124m'\u001B[39m\u001B[38;5;124mcurrent\u001B[39m\u001B[38;5;124m'\u001B[39m])\n\u001B[1;32m      6\u001B[0m result \u001B[38;5;241m=\u001B[39m pd\u001B[38;5;241m.\u001B[39mDataFrame(data\u001B[38;5;241m=\u001B[39mresult_rows)\n\u001B[1;32m      7\u001B[0m result\n",
      "Cell \u001B[0;32mIn[37], line 21\u001B[0m, in \u001B[0;36minterpolation_for_cycle\u001B[0;34m(df)\u001B[0m\n\u001B[1;32m     19\u001B[0m     plt\u001B[38;5;241m.\u001B[39mshow()\n\u001B[1;32m     20\u001B[0m cubic_interpoloate_function_low \u001B[38;5;241m=\u001B[39m interp1d(voltage[\u001B[38;5;241m1\u001B[39m:\u001B[38;5;241m50\u001B[39m], current[\u001B[38;5;241m1\u001B[39m:\u001B[38;5;241m50\u001B[39m], kind\u001B[38;5;241m=\u001B[39m\u001B[38;5;124m'\u001B[39m\u001B[38;5;124mcubic\u001B[39m\u001B[38;5;124m'\u001B[39m)\n\u001B[0;32m---> 21\u001B[0m cubic_interpoloate_function_high \u001B[38;5;241m=\u001B[39m \u001B[43minterp1d\u001B[49m\u001B[43m(\u001B[49m\u001B[43mvoltage\u001B[49m\u001B[43m[\u001B[49m\u001B[38;5;241;43m70\u001B[39;49m\u001B[43m:\u001B[49m\u001B[38;5;241;43m200\u001B[39;49m\u001B[43m]\u001B[49m\u001B[43m,\u001B[49m\u001B[43m \u001B[49m\u001B[43mcurrent\u001B[49m\u001B[43m[\u001B[49m\u001B[38;5;241;43m70\u001B[39;49m\u001B[43m:\u001B[49m\u001B[38;5;241;43m200\u001B[39;49m\u001B[43m]\u001B[49m\u001B[43m,\u001B[49m\u001B[43m \u001B[49m\u001B[43mkind\u001B[49m\u001B[38;5;241;43m=\u001B[39;49m\u001B[38;5;124;43m'\u001B[39;49m\u001B[38;5;124;43mcubic\u001B[39;49m\u001B[38;5;124;43m'\u001B[39;49m\u001B[43m)\u001B[49m\n\u001B[1;32m     22\u001B[0m xnew_low \u001B[38;5;241m=\u001B[39m np\u001B[38;5;241m.\u001B[39mlinspace(\u001B[38;5;241m-\u001B[39m\u001B[38;5;241m0.5\u001B[39m, \u001B[38;5;241m0.90\u001B[39m, num\u001B[38;5;241m=\u001B[39mhalf_one, endpoint\u001B[38;5;241m=\u001B[39m\u001B[38;5;28;01mTrue\u001B[39;00m)\n\u001B[1;32m     23\u001B[0m xnew_high \u001B[38;5;241m=\u001B[39m np\u001B[38;5;241m.\u001B[39mlinspace(\u001B[38;5;241m-\u001B[39m\u001B[38;5;241m0.5\u001B[39m, \u001B[38;5;241m0.25\u001B[39m, num\u001B[38;5;241m=\u001B[39mhalf_two, endpoint\u001B[38;5;241m=\u001B[39m\u001B[38;5;28;01mTrue\u001B[39;00m)\n",
      "File \u001B[0;32m~/PycharmProjects/pyTorch_full_course/venv/lib/python3.9/site-packages/scipy/interpolate/_interpolate.py:619\u001B[0m, in \u001B[0;36minterp1d.__init__\u001B[0;34m(***failed resolving arguments***)\u001B[0m\n\u001B[1;32m    616\u001B[0m         yy \u001B[38;5;241m=\u001B[39m np\u001B[38;5;241m.\u001B[39mones_like(\u001B[38;5;28mself\u001B[39m\u001B[38;5;241m.\u001B[39m_y)\n\u001B[1;32m    617\u001B[0m         rewrite_nan \u001B[38;5;241m=\u001B[39m \u001B[38;5;28;01mTrue\u001B[39;00m\n\u001B[0;32m--> 619\u001B[0m \u001B[38;5;28mself\u001B[39m\u001B[38;5;241m.\u001B[39m_spline \u001B[38;5;241m=\u001B[39m \u001B[43mmake_interp_spline\u001B[49m\u001B[43m(\u001B[49m\u001B[43mxx\u001B[49m\u001B[43m,\u001B[49m\u001B[43m \u001B[49m\u001B[43myy\u001B[49m\u001B[43m,\u001B[49m\u001B[43m \u001B[49m\u001B[43mk\u001B[49m\u001B[38;5;241;43m=\u001B[39;49m\u001B[43morder\u001B[49m\u001B[43m,\u001B[49m\n\u001B[1;32m    620\u001B[0m \u001B[43m                                  \u001B[49m\u001B[43mcheck_finite\u001B[49m\u001B[38;5;241;43m=\u001B[39;49m\u001B[38;5;28;43;01mFalse\u001B[39;49;00m\u001B[43m)\u001B[49m\n\u001B[1;32m    621\u001B[0m \u001B[38;5;28;01mif\u001B[39;00m rewrite_nan:\n\u001B[1;32m    622\u001B[0m     \u001B[38;5;28mself\u001B[39m\u001B[38;5;241m.\u001B[39m_call \u001B[38;5;241m=\u001B[39m \u001B[38;5;28mself\u001B[39m\u001B[38;5;241m.\u001B[39m\u001B[38;5;18m__class__\u001B[39m\u001B[38;5;241m.\u001B[39m_call_nan_spline\n",
      "File \u001B[0;32m~/PycharmProjects/pyTorch_full_course/venv/lib/python3.9/site-packages/scipy/interpolate/_bsplines.py:1297\u001B[0m, in \u001B[0;36mmake_interp_spline\u001B[0;34m(x, y, k, t, bc_type, axis, check_finite)\u001B[0m\n\u001B[1;32m   1294\u001B[0m     \u001B[38;5;28;01mraise\u001B[39;00m \u001B[38;5;167;01mValueError\u001B[39;00m(\u001B[38;5;124m'\u001B[39m\u001B[38;5;124mShapes of x \u001B[39m\u001B[38;5;132;01m{}\u001B[39;00m\u001B[38;5;124m and y \u001B[39m\u001B[38;5;132;01m{}\u001B[39;00m\u001B[38;5;124m are incompatible\u001B[39m\u001B[38;5;124m'\u001B[39m\n\u001B[1;32m   1295\u001B[0m                      \u001B[38;5;241m.\u001B[39mformat(x\u001B[38;5;241m.\u001B[39mshape, y\u001B[38;5;241m.\u001B[39mshape))\n\u001B[1;32m   1296\u001B[0m \u001B[38;5;28;01mif\u001B[39;00m np\u001B[38;5;241m.\u001B[39many(x[\u001B[38;5;241m1\u001B[39m:] \u001B[38;5;241m==\u001B[39m x[:\u001B[38;5;241m-\u001B[39m\u001B[38;5;241m1\u001B[39m]):\n\u001B[0;32m-> 1297\u001B[0m     \u001B[38;5;28;01mraise\u001B[39;00m \u001B[38;5;167;01mValueError\u001B[39;00m(\u001B[38;5;124m\"\u001B[39m\u001B[38;5;124mExpect x to not have duplicates\u001B[39m\u001B[38;5;124m\"\u001B[39m)\n\u001B[1;32m   1298\u001B[0m \u001B[38;5;28;01mif\u001B[39;00m x\u001B[38;5;241m.\u001B[39mndim \u001B[38;5;241m!=\u001B[39m \u001B[38;5;241m1\u001B[39m \u001B[38;5;129;01mor\u001B[39;00m np\u001B[38;5;241m.\u001B[39many(x[\u001B[38;5;241m1\u001B[39m:] \u001B[38;5;241m<\u001B[39m x[:\u001B[38;5;241m-\u001B[39m\u001B[38;5;241m1\u001B[39m]):\n\u001B[1;32m   1299\u001B[0m     \u001B[38;5;28;01mraise\u001B[39;00m \u001B[38;5;167;01mValueError\u001B[39;00m(\u001B[38;5;124m\"\u001B[39m\u001B[38;5;124mExpect x to be a 1D strictly increasing sequence.\u001B[39m\u001B[38;5;124m\"\u001B[39m)\n",
      "\u001B[0;31mValueError\u001B[0m: Expect x to not have duplicates"
     ]
    }
   ],
   "source": [
    "result_rows = []\n",
    "for table in all_tables:\n",
    "    result_rows.append(interpolation_for_cycle(table)['current'])\n",
    "    print(len(table))\n",
    "result = pd.DataFrame(data=result_rows)\n",
    "result"
   ],
   "metadata": {
    "collapsed": false,
    "ExecuteTime": {
     "end_time": "2023-10-27T16:41:59.409874Z",
     "start_time": "2023-10-27T16:41:59.357267Z"
    }
   }
  },
  {
   "cell_type": "code",
   "execution_count": null,
   "outputs": [],
   "source": [],
   "metadata": {
    "collapsed": false
   }
  },
  {
   "cell_type": "code",
   "execution_count": null,
   "outputs": [],
   "source": [],
   "metadata": {
    "collapsed": false
   }
  },
  {
   "cell_type": "code",
   "execution_count": null,
   "outputs": [],
   "source": [],
   "metadata": {
    "collapsed": false
   }
  }
 ],
 "metadata": {
  "kernelspec": {
   "display_name": "Python 3",
   "language": "python",
   "name": "python3"
  },
  "language_info": {
   "codemirror_mode": {
    "name": "ipython",
    "version": 2
   },
   "file_extension": ".py",
   "mimetype": "text/x-python",
   "name": "python",
   "nbconvert_exporter": "python",
   "pygments_lexer": "ipython2",
   "version": "2.7.6"
  }
 },
 "nbformat": 4,
 "nbformat_minor": 0
}
