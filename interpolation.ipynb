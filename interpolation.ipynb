{
 "cells": [
  {
   "cell_type": "code",
   "execution_count": 1,
   "metadata": {
    "collapsed": true,
    "ExecuteTime": {
     "end_time": "2023-11-10T09:22:59.063521Z",
     "start_time": "2023-11-10T09:22:58.588556Z"
    }
   },
   "outputs": [],
   "source": [
    "import os\n",
    "import matplotlib.pyplot as plt\n",
    "import pandas as pd\n",
    "from tqdm import tqdm\n",
    "import numpy as np\n",
    "from paths import get_project_path\n",
    "from statistics import mean, median"
   ]
  },
  {
   "cell_type": "code",
   "execution_count": 2,
   "outputs": [],
   "source": [
    "def parse_file(path_file):\n",
    "    with open(path_file, 'rb') as f:\n",
    "        data = f.readlines()\n",
    "    voltage_list = []\n",
    "    current_list = []\n",
    "    for number, string in enumerate(data[8:]):\n",
    "        clean_string = str(str(string).split(\"'\")[1]).rstrip().strip().replace(\"\\\\n\", '')\n",
    "        voltage = clean_string.split(',')[0]\n",
    "        current = clean_string.split(',')[1]\n",
    "        voltage_list.append(float(voltage))\n",
    "        current_list.append(float(current))\n",
    "    tables, last_index = [], 0\n",
    "    for i in range(len(voltage_list)):\n",
    "        if (voltage_list[i] == 1.0) & (i != 0):\n",
    "            tables.append(pd.DataFrame({'current': current_list[last_index:i],\n",
    "                                        'voltage': voltage_list[last_index:i]}))\n",
    "            last_index = i\n",
    "    return tables"
   ],
   "metadata": {
    "collapsed": false,
    "ExecuteTime": {
     "end_time": "2023-11-10T09:22:59.067491Z",
     "start_time": "2023-11-10T09:22:59.065672Z"
    }
   }
  },
  {
   "cell_type": "code",
   "execution_count": 3,
   "outputs": [
    {
     "name": "stderr",
     "output_type": "stream",
     "text": [
      "100%|██████████| 13/13 [00:02<00:00,  4.99it/s]"
     ]
    },
    {
     "name": "stdout",
     "output_type": "stream",
     "text": [
      "6993\n",
      "6993\n"
     ]
    },
    {
     "name": "stderr",
     "output_type": "stream",
     "text": [
      "\n"
     ]
    }
   ],
   "source": [
    "all_tables = []\n",
    "all_labels = []\n",
    "all_names = []\n",
    "dir_path = os.path.join(get_project_path(), 'data', 'external', 'generated_dataset_version_1')\n",
    "for file in tqdm(os.listdir(dir_path)):\n",
    "    if file.endswith('all_solutions.txt'):\n",
    "        low_conc = float(file.split(\"_\")[1])\n",
    "        high_conc = float(file.split(\"_\")[2])\n",
    "        for amount, one in enumerate(parse_file(os.path.join(dir_path, file))):\n",
    "            all_tables.append(one)\n",
    "        range_conc = np.linspace(low_conc, high_conc, num=amount + 1)\n",
    "        for conc in range_conc:\n",
    "            all_labels.append(conc)\n",
    "print(len(all_tables))\n",
    "print(len(all_labels))"
   ],
   "metadata": {
    "collapsed": false,
    "ExecuteTime": {
     "end_time": "2023-11-10T09:23:01.693309Z",
     "start_time": "2023-11-10T09:22:59.069445Z"
    }
   }
  },
  {
   "cell_type": "code",
   "execution_count": 4,
   "outputs": [
    {
     "data": {
      "text/plain": "(280, 212)"
     },
     "execution_count": 4,
     "metadata": {},
     "output_type": "execute_result"
    }
   ],
   "source": [
    "lengths = []\n",
    "for table in all_tables:\n",
    "    if len(table) == 239:\n",
    "        MINIMUM = table\n",
    "    if len(table) == 280:\n",
    "        MAXIMUM = table\n",
    "    lengths.append(len(table))\n",
    "max(lengths), min(lengths)"
   ],
   "metadata": {
    "collapsed": false,
    "ExecuteTime": {
     "end_time": "2023-11-10T09:23:01.704762Z",
     "start_time": "2023-11-10T09:23:01.689583Z"
    }
   }
  },
  {
   "cell_type": "code",
   "execution_count": 5,
   "outputs": [
    {
     "name": "stdout",
     "output_type": "stream",
     "text": [
      "237\n"
     ]
    },
    {
     "data": {
      "text/plain": "<matplotlib.collections.PathCollection at 0x163879d90>"
     },
     "execution_count": 5,
     "metadata": {},
     "output_type": "execute_result"
    },
    {
     "data": {
      "text/plain": "<Figure size 640x480 with 1 Axes>",
      "image/png": "[encoded data removed]"
     },
     "metadata": {},
     "output_type": "display_data"
    }
   ],
   "source": [
    "one = all_tables[2000]\n",
    "slice = 200\n",
    "print(len(one))\n",
    "plt.scatter(one['voltage'][:slice], one['current'][:slice])"
   ],
   "metadata": {
    "collapsed": false,
    "ExecuteTime": {
     "end_time": "2023-11-10T09:23:01.884035Z",
     "start_time": "2023-11-10T09:23:01.704612Z"
    }
   }
  },
  {
   "cell_type": "markdown",
   "source": [
    "# Interpolation"
   ],
   "metadata": {
    "collapsed": false
   }
  },
  {
   "cell_type": "code",
   "execution_count": 6,
   "outputs": [],
   "source": [
    "from scipy.interpolate import interp1d\n",
    "\n",
    "\n",
    "def interpolation_for_cycle(df: pd.DataFrame, plot=False):\n",
    "    difference = max(lengths) - len(df)\n",
    "    if difference == 0:\n",
    "        return df\n",
    "    else:\n",
    "        df = df.drop_duplicates(subset=['voltage'])\n",
    "        current = df.current.tolist()\n",
    "        voltage = df.voltage.tolist()\n",
    "        need_current = [x for x in current if x > mean(current) + 0.0001]\n",
    "        need_voltage = [voltage[current.index(vol)] for vol in need_current]\n",
    "        cubic_interpolate_function = interp1d(need_voltage, need_current, kind='cubic')\n",
    "        x_new = np.linspace(need_voltage[0], need_voltage[-1], num=difference + 2, endpoint=True)\n",
    "        start_index = voltage.index(need_voltage[0])\n",
    "        end_index = voltage.index(need_voltage[-1])\n",
    "        y_new = cubic_interpolate_function(x_new)\n",
    "        if plot:\n",
    "            plt.figure(figsize=(10, 5))\n",
    "            plt.subplot(1, 2, 1)\n",
    "            plt.plot(voltage, current)\n",
    "            plt.scatter(need_voltage[0], current[start_index], c='r', s=70)\n",
    "            plt.scatter(need_voltage[-1], current[end_index], c='r', s=70)\n",
    "        for volt, curr in zip(x_new, y_new):\n",
    "            voltage.insert(start_index, volt)\n",
    "            current.insert(start_index, curr)\n",
    "            start_index += 1\n",
    "            end_index += 1\n",
    "\n",
    "        if plot:\n",
    "            plt.subplot(1, 2, 2)\n",
    "            plt.scatter(voltage, current, c='y')\n",
    "            plt.plot(x_new, y_new, c='r')\n",
    "            plt.show()\n",
    "        return pd.DataFrame(data={'voltage': voltage, 'current': current}).sort_values(by='voltage')"
   ],
   "metadata": {
    "collapsed": false,
    "ExecuteTime": {
     "end_time": "2023-11-10T09:23:02.090235Z",
     "start_time": "2023-11-10T09:23:01.885560Z"
    }
   }
  },
  {
   "cell_type": "code",
   "execution_count": 7,
   "outputs": [
    {
     "data": {
      "text/plain": "<Figure size 1000x500 with 2 Axes>",
      "image/png": "[encoded data removed]"
     },
     "metadata": {},
     "output_type": "display_data"
    },
    {
     "data": {
      "text/plain": "      voltage       current\n81  -0.999977 -2.152269e-04\n80  -0.999954 -2.253354e-04\n82  -0.999783 -2.078572e-04\n79  -0.999697 -2.320999e-04\n83  -0.999473 -2.053714e-04\n..        ...           ...\n279  0.999887  8.818808e-06\n2    0.999936 -6.842318e-06\n280  0.999991  2.642918e-06\n1    0.999993 -2.378650e-06\n0    1.000000 -2.584791e-24\n\n[281 rows x 2 columns]",
      "text/html": "<div>\n<style scoped>\n    .dataframe tbody tr th:only-of-type {\n        vertical-align: middle;\n    }\n\n    .dataframe tbody tr th {\n        vertical-align: top;\n    }\n\n    .dataframe thead th {\n        text-align: right;\n    }\n</style>\n<table border=\"1\" class=\"dataframe\">\n  <thead>\n    <tr style=\"text-align: right;\">\n      <th></th>\n      <th>voltage</th>\n      <th>current</th>\n    </tr>\n  </thead>\n  <tbody>\n    <tr>\n      <th>81</th>\n      <td>-0.999977</td>\n      <td>-2.152269e-04</td>\n    </tr>\n    <tr>\n      <th>80</th>\n      <td>-0.999954</td>\n      <td>-2.253354e-04</td>\n    </tr>\n    <tr>\n      <th>82</th>\n      <td>-0.999783</td>\n      <td>-2.078572e-04</td>\n    </tr>\n    <tr>\n      <th>79</th>\n      <td>-0.999697</td>\n      <td>-2.320999e-04</td>\n    </tr>\n    <tr>\n      <th>83</th>\n      <td>-0.999473</td>\n      <td>-2.053714e-04</td>\n    </tr>\n    <tr>\n      <th>...</th>\n      <td>...</td>\n      <td>...</td>\n    </tr>\n    <tr>\n      <th>279</th>\n      <td>0.999887</td>\n      <td>8.818808e-06</td>\n    </tr>\n    <tr>\n      <th>2</th>\n      <td>0.999936</td>\n      <td>-6.842318e-06</td>\n    </tr>\n    <tr>\n      <th>280</th>\n      <td>0.999991</td>\n      <td>2.642918e-06</td>\n    </tr>\n    <tr>\n      <th>1</th>\n      <td>0.999993</td>\n      <td>-2.378650e-06</td>\n    </tr>\n    <tr>\n      <th>0</th>\n      <td>1.000000</td>\n      <td>-2.584791e-24</td>\n    </tr>\n  </tbody>\n</table>\n<p>281 rows × 2 columns</p>\n</div>"
     },
     "execution_count": 7,
     "metadata": {},
     "output_type": "execute_result"
    }
   ],
   "source": [
    "interpolation_for_cycle(all_tables[0], plot=True)"
   ],
   "metadata": {
    "collapsed": false,
    "ExecuteTime": {
     "end_time": "2023-11-10T09:23:02.227774Z",
     "start_time": "2023-11-10T09:23:02.089180Z"
    }
   }
  },
  {
   "cell_type": "code",
   "execution_count": 8,
   "outputs": [
    {
     "name": "stderr",
     "output_type": "stream",
     "text": [
      "100%|██████████| 6993/6993 [03:16<00:00, 35.66it/s]\n"
     ]
    },
    {
     "data": {
      "text/plain": "              81        80        82        79        83        84        78   \\\ncurrent -0.000215 -0.000225 -0.000208 -0.000232 -0.000205 -0.000208 -0.000229   \ncurrent -0.000215 -0.000225 -0.000208 -0.000232 -0.000205 -0.000208 -0.000229   \ncurrent -0.000215 -0.000225 -0.000208 -0.000232 -0.000205 -0.000208 -0.000229   \ncurrent -0.000215 -0.000225 -0.000208 -0.000232 -0.000205 -0.000208 -0.000229   \ncurrent -0.000215 -0.000225 -0.000208 -0.000232 -0.000205 -0.000208 -0.000229   \n...           ...       ...       ...       ...       ...       ...       ...   \ncurrent -0.000283 -0.000291 -0.000278 -0.000305 -0.000274 -0.000271 -0.000328   \ncurrent -0.000283 -0.000291 -0.000278 -0.000305 -0.000274 -0.000271 -0.000328   \ncurrent -0.000283 -0.000291 -0.000278 -0.000305 -0.000274 -0.000271 -0.000328   \ncurrent -0.000283 -0.000291 -0.000278 -0.000305 -0.000274 -0.000271 -0.000328   \ncurrent -0.000283 -0.000291 -0.000278 -0.000305 -0.000274 -0.000271 -0.000328   \n\n              85        86        87   ...       277       5         278  \\\ncurrent -0.000209 -0.000209 -0.000208  ...  0.000013 -0.000013  0.000013   \ncurrent -0.000209 -0.000208 -0.000208  ...  0.000013 -0.000013  0.000013   \ncurrent -0.000209 -0.000208 -0.000208  ...  0.000013 -0.000013  0.000013   \ncurrent -0.000209 -0.000208 -0.000208  ...  0.000013 -0.000013  0.000013   \ncurrent -0.000209 -0.000208 -0.000208  ...  0.000013 -0.000013  0.000013   \n...           ...       ...       ...  ...       ...       ...       ...   \ncurrent -0.000269 -0.000265 -0.000262  ...  0.000013 -0.000013  0.000013   \ncurrent -0.000269 -0.000265 -0.000262  ...  0.000013 -0.000013  0.000013   \ncurrent -0.000269 -0.000265 -0.000262  ...  0.000013 -0.000013  0.000013   \ncurrent -0.000269 -0.000265 -0.000262  ...  0.000013 -0.000013  0.000013   \ncurrent -0.000269 -0.000265 -0.000262  ...  0.000013 -0.000013  0.000013   \n\n              4        3         279       2         280       1    \\\ncurrent -0.000013 -0.00001  0.000009 -0.000007  0.000003 -0.000002   \ncurrent -0.000013 -0.00001  0.000009 -0.000007  0.000003 -0.000002   \ncurrent -0.000013 -0.00001  0.000009 -0.000007  0.000003 -0.000002   \ncurrent -0.000013 -0.00001  0.000009 -0.000007  0.000003 -0.000002   \ncurrent -0.000013 -0.00001  0.000009 -0.000007  0.000003 -0.000002   \n...           ...      ...       ...       ...       ...       ...   \ncurrent -0.000013 -0.00001  0.000009 -0.000007  0.000003 -0.000002   \ncurrent -0.000013 -0.00001  0.000009 -0.000007  0.000003 -0.000002   \ncurrent -0.000013 -0.00001  0.000009 -0.000007  0.000003 -0.000002   \ncurrent -0.000013 -0.00001  0.000009 -0.000007  0.000003 -0.000002   \ncurrent -0.000013 -0.00001  0.000009 -0.000007  0.000003 -0.000002   \n\n                  0    \ncurrent -2.584791e-24  \ncurrent -2.584791e-24  \ncurrent -2.584791e-24  \ncurrent -2.584791e-24  \ncurrent -2.584791e-24  \n...               ...  \ncurrent -2.584985e-24  \ncurrent -2.584985e-24  \ncurrent -2.584985e-24  \ncurrent -2.584985e-24  \ncurrent -2.584985e-24  \n\n[6993 rows x 281 columns]",
      "text/html": "<div>\n<style scoped>\n    .dataframe tbody tr th:only-of-type {\n        vertical-align: middle;\n    }\n\n    .dataframe tbody tr th {\n        vertical-align: top;\n    }\n\n    .dataframe thead th {\n        text-align: right;\n    }\n</style>\n<table border=\"1\" class=\"dataframe\">\n  <thead>\n    <tr style=\"text-align: right;\">\n      <th></th>\n      <th>81</th>\n      <th>80</th>\n      <th>82</th>\n      <th>79</th>\n      <th>83</th>\n      <th>84</th>\n      <th>78</th>\n      <th>85</th>\n      <th>86</th>\n      <th>87</th>\n      <th>...</th>\n      <th>277</th>\n      <th>5</th>\n      <th>278</th>\n      <th>4</th>\n      <th>3</th>\n      <th>279</th>\n      <th>2</th>\n      <th>280</th>\n      <th>1</th>\n      <th>0</th>\n    </tr>\n  </thead>\n  <tbody>\n    <tr>\n      <th>current</th>\n      <td>-0.000215</td>\n      <td>-0.000225</td>\n      <td>-0.000208</td>\n      <td>-0.000232</td>\n      <td>-0.000205</td>\n      <td>-0.000208</td>\n      <td>-0.000229</td>\n      <td>-0.000209</td>\n      <td>-0.000209</td>\n      <td>-0.000208</td>\n      <td>...</td>\n      <td>0.000013</td>\n      <td>-0.000013</td>\n      <td>0.000013</td>\n      <td>-0.000013</td>\n      <td>-0.00001</td>\n      <td>0.000009</td>\n      <td>-0.000007</td>\n      <td>0.000003</td>\n      <td>-0.000002</td>\n      <td>-2.584791e-24</td>\n    </tr>\n    <tr>\n      <th>current</th>\n      <td>-0.000215</td>\n      <td>-0.000225</td>\n      <td>-0.000208</td>\n      <td>-0.000232</td>\n      <td>-0.000205</td>\n      <td>-0.000208</td>\n      <td>-0.000229</td>\n      <td>-0.000209</td>\n      <td>-0.000208</td>\n      <td>-0.000208</td>\n      <td>...</td>\n      <td>0.000013</td>\n      <td>-0.000013</td>\n      <td>0.000013</td>\n      <td>-0.000013</td>\n      <td>-0.00001</td>\n      <td>0.000009</td>\n      <td>-0.000007</td>\n      <td>0.000003</td>\n      <td>-0.000002</td>\n      <td>-2.584791e-24</td>\n    </tr>\n    <tr>\n      <th>current</th>\n      <td>-0.000215</td>\n      <td>-0.000225</td>\n      <td>-0.000208</td>\n      <td>-0.000232</td>\n      <td>-0.000205</td>\n      <td>-0.000208</td>\n      <td>-0.000229</td>\n      <td>-0.000209</td>\n      <td>-0.000208</td>\n      <td>-0.000208</td>\n      <td>...</td>\n      <td>0.000013</td>\n      <td>-0.000013</td>\n      <td>0.000013</td>\n      <td>-0.000013</td>\n      <td>-0.00001</td>\n      <td>0.000009</td>\n      <td>-0.000007</td>\n      <td>0.000003</td>\n      <td>-0.000002</td>\n      <td>-2.584791e-24</td>\n    </tr>\n    <tr>\n      <th>current</th>\n      <td>-0.000215</td>\n      <td>-0.000225</td>\n      <td>-0.000208</td>\n      <td>-0.000232</td>\n      <td>-0.000205</td>\n      <td>-0.000208</td>\n      <td>-0.000229</td>\n      <td>-0.000209</td>\n      <td>-0.000208</td>\n      <td>-0.000208</td>\n      <td>...</td>\n      <td>0.000013</td>\n      <td>-0.000013</td>\n      <td>0.000013</td>\n      <td>-0.000013</td>\n      <td>-0.00001</td>\n      <td>0.000009</td>\n      <td>-0.000007</td>\n      <td>0.000003</td>\n      <td>-0.000002</td>\n      <td>-2.584791e-24</td>\n    </tr>\n    <tr>\n      <th>current</th>\n      <td>-0.000215</td>\n      <td>-0.000225</td>\n      <td>-0.000208</td>\n      <td>-0.000232</td>\n      <td>-0.000205</td>\n      <td>-0.000208</td>\n      <td>-0.000229</td>\n      <td>-0.000209</td>\n      <td>-0.000208</td>\n      <td>-0.000208</td>\n      <td>...</td>\n      <td>0.000013</td>\n      <td>-0.000013</td>\n      <td>0.000013</td>\n      <td>-0.000013</td>\n      <td>-0.00001</td>\n      <td>0.000009</td>\n      <td>-0.000007</td>\n      <td>0.000003</td>\n      <td>-0.000002</td>\n      <td>-2.584791e-24</td>\n    </tr>\n    <tr>\n      <th>...</th>\n      <td>...</td>\n      <td>...</td>\n      <td>...</td>\n      <td>...</td>\n      <td>...</td>\n      <td>...</td>\n      <td>...</td>\n      <td>...</td>\n      <td>...</td>\n      <td>...</td>\n      <td>...</td>\n      <td>...</td>\n      <td>...</td>\n      <td>...</td>\n      <td>...</td>\n      <td>...</td>\n      <td>...</td>\n      <td>...</td>\n      <td>...</td>\n      <td>...</td>\n      <td>...</td>\n    </tr>\n    <tr>\n      <th>current</th>\n      <td>-0.000283</td>\n      <td>-0.000291</td>\n      <td>-0.000278</td>\n      <td>-0.000305</td>\n      <td>-0.000274</td>\n      <td>-0.000271</td>\n      <td>-0.000328</td>\n      <td>-0.000269</td>\n      <td>-0.000265</td>\n      <td>-0.000262</td>\n      <td>...</td>\n      <td>0.000013</td>\n      <td>-0.000013</td>\n      <td>0.000013</td>\n      <td>-0.000013</td>\n      <td>-0.00001</td>\n      <td>0.000009</td>\n      <td>-0.000007</td>\n      <td>0.000003</td>\n      <td>-0.000002</td>\n      <td>-2.584985e-24</td>\n    </tr>\n    <tr>\n      <th>current</th>\n      <td>-0.000283</td>\n      <td>-0.000291</td>\n      <td>-0.000278</td>\n      <td>-0.000305</td>\n      <td>-0.000274</td>\n      <td>-0.000271</td>\n      <td>-0.000328</td>\n      <td>-0.000269</td>\n      <td>-0.000265</td>\n      <td>-0.000262</td>\n      <td>...</td>\n      <td>0.000013</td>\n      <td>-0.000013</td>\n      <td>0.000013</td>\n      <td>-0.000013</td>\n      <td>-0.00001</td>\n      <td>0.000009</td>\n      <td>-0.000007</td>\n      <td>0.000003</td>\n      <td>-0.000002</td>\n      <td>-2.584985e-24</td>\n    </tr>\n    <tr>\n      <th>current</th>\n      <td>-0.000283</td>\n      <td>-0.000291</td>\n      <td>-0.000278</td>\n      <td>-0.000305</td>\n      <td>-0.000274</td>\n      <td>-0.000271</td>\n      <td>-0.000328</td>\n      <td>-0.000269</td>\n      <td>-0.000265</td>\n      <td>-0.000262</td>\n      <td>...</td>\n      <td>0.000013</td>\n      <td>-0.000013</td>\n      <td>0.000013</td>\n      <td>-0.000013</td>\n      <td>-0.00001</td>\n      <td>0.000009</td>\n      <td>-0.000007</td>\n      <td>0.000003</td>\n      <td>-0.000002</td>\n      <td>-2.584985e-24</td>\n    </tr>\n    <tr>\n      <th>current</th>\n      <td>-0.000283</td>\n      <td>-0.000291</td>\n      <td>-0.000278</td>\n      <td>-0.000305</td>\n      <td>-0.000274</td>\n      <td>-0.000271</td>\n      <td>-0.000328</td>\n      <td>-0.000269</td>\n      <td>-0.000265</td>\n      <td>-0.000262</td>\n      <td>...</td>\n      <td>0.000013</td>\n      <td>-0.000013</td>\n      <td>0.000013</td>\n      <td>-0.000013</td>\n      <td>-0.00001</td>\n      <td>0.000009</td>\n      <td>-0.000007</td>\n      <td>0.000003</td>\n      <td>-0.000002</td>\n      <td>-2.584985e-24</td>\n    </tr>\n    <tr>\n      <th>current</th>\n      <td>-0.000283</td>\n      <td>-0.000291</td>\n      <td>-0.000278</td>\n      <td>-0.000305</td>\n      <td>-0.000274</td>\n      <td>-0.000271</td>\n      <td>-0.000328</td>\n      <td>-0.000269</td>\n      <td>-0.000265</td>\n      <td>-0.000262</td>\n      <td>...</td>\n      <td>0.000013</td>\n      <td>-0.000013</td>\n      <td>0.000013</td>\n      <td>-0.000013</td>\n      <td>-0.00001</td>\n      <td>0.000009</td>\n      <td>-0.000007</td>\n      <td>0.000003</td>\n      <td>-0.000002</td>\n      <td>-2.584985e-24</td>\n    </tr>\n  </tbody>\n</table>\n<p>6993 rows × 281 columns</p>\n</div>"
     },
     "execution_count": 8,
     "metadata": {},
     "output_type": "execute_result"
    }
   ],
   "source": [
    "result_rows = []\n",
    "for num, table in enumerate(tqdm(all_tables)):\n",
    "    try:\n",
    "        result_rows.append(interpolation_for_cycle(table)['current'])\n",
    "    except Exception as error:\n",
    "        print(error)\n",
    "result = pd.DataFrame(data=result_rows)\n",
    "result"
   ],
   "metadata": {
    "collapsed": false,
    "ExecuteTime": {
     "end_time": "2023-11-10T09:26:18.891180Z",
     "start_time": "2023-11-10T09:23:02.228636Z"
    }
   }
  },
  {
   "cell_type": "markdown",
   "source": [
    "# Dataset"
   ],
   "metadata": {
    "collapsed": false
   }
  },
  {
   "cell_type": "code",
   "execution_count": 9,
   "outputs": [
    {
     "data": {
      "text/plain": "             1         2         3         4         5         6         7  \\\n1    -0.000215 -0.000225 -0.000208 -0.000232 -0.000205 -0.000208 -0.000229   \n2    -0.000215 -0.000225 -0.000208 -0.000232 -0.000205 -0.000208 -0.000229   \n3    -0.000215 -0.000225 -0.000208 -0.000232 -0.000205 -0.000208 -0.000229   \n4    -0.000215 -0.000225 -0.000208 -0.000232 -0.000205 -0.000208 -0.000229   \n5    -0.000215 -0.000225 -0.000208 -0.000232 -0.000205 -0.000208 -0.000229   \n...        ...       ...       ...       ...       ...       ...       ...   \n6989 -0.000283 -0.000291 -0.000278 -0.000305 -0.000274 -0.000271 -0.000328   \n6990 -0.000283 -0.000291 -0.000278 -0.000305 -0.000274 -0.000271 -0.000328   \n6991 -0.000283 -0.000291 -0.000278 -0.000305 -0.000274 -0.000271 -0.000328   \n6992 -0.000283 -0.000291 -0.000278 -0.000305 -0.000274 -0.000271 -0.000328   \n6993 -0.000283 -0.000291 -0.000278 -0.000305 -0.000274 -0.000271 -0.000328   \n\n             8         9        10  ...       273       274       275  \\\n1    -0.000209 -0.000209 -0.000208  ... -0.000013  0.000013 -0.000013   \n2    -0.000209 -0.000208 -0.000208  ... -0.000013  0.000013 -0.000013   \n3    -0.000209 -0.000208 -0.000208  ... -0.000013  0.000013 -0.000013   \n4    -0.000209 -0.000208 -0.000208  ... -0.000013  0.000013 -0.000013   \n5    -0.000209 -0.000208 -0.000208  ... -0.000013  0.000013 -0.000013   \n...        ...       ...       ...  ...       ...       ...       ...   \n6989 -0.000269 -0.000265 -0.000262  ... -0.000013  0.000013 -0.000013   \n6990 -0.000269 -0.000265 -0.000262  ... -0.000013  0.000013 -0.000013   \n6991 -0.000269 -0.000265 -0.000262  ... -0.000013  0.000013 -0.000013   \n6992 -0.000269 -0.000265 -0.000262  ... -0.000013  0.000013 -0.000013   \n6993 -0.000269 -0.000265 -0.000262  ... -0.000013  0.000013 -0.000013   \n\n          276       277       278       279       280           281  \\\n1    -0.00001  0.000009 -0.000007  0.000003 -0.000002 -2.584791e-24   \n2    -0.00001  0.000009 -0.000007  0.000003 -0.000002 -2.584791e-24   \n3    -0.00001  0.000009 -0.000007  0.000003 -0.000002 -2.584791e-24   \n4    -0.00001  0.000009 -0.000007  0.000003 -0.000002 -2.584791e-24   \n5    -0.00001  0.000009 -0.000007  0.000003 -0.000002 -2.584791e-24   \n...       ...       ...       ...       ...       ...           ...   \n6989 -0.00001  0.000009 -0.000007  0.000003 -0.000002 -2.584985e-24   \n6990 -0.00001  0.000009 -0.000007  0.000003 -0.000002 -2.584985e-24   \n6991 -0.00001  0.000009 -0.000007  0.000003 -0.000002 -2.584985e-24   \n6992 -0.00001  0.000009 -0.000007  0.000003 -0.000002 -2.584985e-24   \n6993 -0.00001  0.000009 -0.000007  0.000003 -0.000002 -2.584985e-24   \n\n      concentration  \n1      1.000000e-07  \n2      9.990982e-08  \n3      9.981964e-08  \n4      9.972946e-08  \n5      9.963928e-08  \n...             ...  \n6989   1.036072e-02  \n6990   1.027054e-02  \n6991   1.018036e-02  \n6992   1.009018e-02  \n6993   1.000000e-02  \n\n[6993 rows x 282 columns]",
      "text/html": "<div>\n<style scoped>\n    .dataframe tbody tr th:only-of-type {\n        vertical-align: middle;\n    }\n\n    .dataframe tbody tr th {\n        vertical-align: top;\n    }\n\n    .dataframe thead th {\n        text-align: right;\n    }\n</style>\n<table border=\"1\" class=\"dataframe\">\n  <thead>\n    <tr style=\"text-align: right;\">\n      <th></th>\n      <th>1</th>\n      <th>2</th>\n      <th>3</th>\n      <th>4</th>\n      <th>5</th>\n      <th>6</th>\n      <th>7</th>\n      <th>8</th>\n      <th>9</th>\n      <th>10</th>\n      <th>...</th>\n      <th>273</th>\n      <th>274</th>\n      <th>275</th>\n      <th>276</th>\n      <th>277</th>\n      <th>278</th>\n      <th>279</th>\n      <th>280</th>\n      <th>281</th>\n      <th>concentration</th>\n    </tr>\n  </thead>\n  <tbody>\n    <tr>\n      <th>1</th>\n      <td>-0.000215</td>\n      <td>-0.000225</td>\n      <td>-0.000208</td>\n      <td>-0.000232</td>\n      <td>-0.000205</td>\n      <td>-0.000208</td>\n      <td>-0.000229</td>\n      <td>-0.000209</td>\n      <td>-0.000209</td>\n      <td>-0.000208</td>\n      <td>...</td>\n      <td>-0.000013</td>\n      <td>0.000013</td>\n      <td>-0.000013</td>\n      <td>-0.00001</td>\n      <td>0.000009</td>\n      <td>-0.000007</td>\n      <td>0.000003</td>\n      <td>-0.000002</td>\n      <td>-2.584791e-24</td>\n      <td>1.000000e-07</td>\n    </tr>\n    <tr>\n      <th>2</th>\n      <td>-0.000215</td>\n      <td>-0.000225</td>\n      <td>-0.000208</td>\n      <td>-0.000232</td>\n      <td>-0.000205</td>\n      <td>-0.000208</td>\n      <td>-0.000229</td>\n      <td>-0.000209</td>\n      <td>-0.000208</td>\n      <td>-0.000208</td>\n      <td>...</td>\n      <td>-0.000013</td>\n      <td>0.000013</td>\n      <td>-0.000013</td>\n      <td>-0.00001</td>\n      <td>0.000009</td>\n      <td>-0.000007</td>\n      <td>0.000003</td>\n      <td>-0.000002</td>\n      <td>-2.584791e-24</td>\n      <td>9.990982e-08</td>\n    </tr>\n    <tr>\n      <th>3</th>\n      <td>-0.000215</td>\n      <td>-0.000225</td>\n      <td>-0.000208</td>\n      <td>-0.000232</td>\n      <td>-0.000205</td>\n      <td>-0.000208</td>\n      <td>-0.000229</td>\n      <td>-0.000209</td>\n      <td>-0.000208</td>\n      <td>-0.000208</td>\n      <td>...</td>\n      <td>-0.000013</td>\n      <td>0.000013</td>\n      <td>-0.000013</td>\n      <td>-0.00001</td>\n      <td>0.000009</td>\n      <td>-0.000007</td>\n      <td>0.000003</td>\n      <td>-0.000002</td>\n      <td>-2.584791e-24</td>\n      <td>9.981964e-08</td>\n    </tr>\n    <tr>\n      <th>4</th>\n      <td>-0.000215</td>\n      <td>-0.000225</td>\n      <td>-0.000208</td>\n      <td>-0.000232</td>\n      <td>-0.000205</td>\n      <td>-0.000208</td>\n      <td>-0.000229</td>\n      <td>-0.000209</td>\n      <td>-0.000208</td>\n      <td>-0.000208</td>\n      <td>...</td>\n      <td>-0.000013</td>\n      <td>0.000013</td>\n      <td>-0.000013</td>\n      <td>-0.00001</td>\n      <td>0.000009</td>\n      <td>-0.000007</td>\n      <td>0.000003</td>\n      <td>-0.000002</td>\n      <td>-2.584791e-24</td>\n      <td>9.972946e-08</td>\n    </tr>\n    <tr>\n      <th>5</th>\n      <td>-0.000215</td>\n      <td>-0.000225</td>\n      <td>-0.000208</td>\n      <td>-0.000232</td>\n      <td>-0.000205</td>\n      <td>-0.000208</td>\n      <td>-0.000229</td>\n      <td>-0.000209</td>\n      <td>-0.000208</td>\n      <td>-0.000208</td>\n      <td>...</td>\n      <td>-0.000013</td>\n      <td>0.000013</td>\n      <td>-0.000013</td>\n      <td>-0.00001</td>\n      <td>0.000009</td>\n      <td>-0.000007</td>\n      <td>0.000003</td>\n      <td>-0.000002</td>\n      <td>-2.584791e-24</td>\n      <td>9.963928e-08</td>\n    </tr>\n    <tr>\n      <th>...</th>\n      <td>...</td>\n      <td>...</td>\n      <td>...</td>\n      <td>...</td>\n      <td>...</td>\n      <td>...</td>\n      <td>...</td>\n      <td>...</td>\n      <td>...</td>\n      <td>...</td>\n      <td>...</td>\n      <td>...</td>\n      <td>...</td>\n      <td>...</td>\n      <td>...</td>\n      <td>...</td>\n      <td>...</td>\n      <td>...</td>\n      <td>...</td>\n      <td>...</td>\n      <td>...</td>\n    </tr>\n    <tr>\n      <th>6989</th>\n      <td>-0.000283</td>\n      <td>-0.000291</td>\n      <td>-0.000278</td>\n      <td>-0.000305</td>\n      <td>-0.000274</td>\n      <td>-0.000271</td>\n      <td>-0.000328</td>\n      <td>-0.000269</td>\n      <td>-0.000265</td>\n      <td>-0.000262</td>\n      <td>...</td>\n      <td>-0.000013</td>\n      <td>0.000013</td>\n      <td>-0.000013</td>\n      <td>-0.00001</td>\n      <td>0.000009</td>\n      <td>-0.000007</td>\n      <td>0.000003</td>\n      <td>-0.000002</td>\n      <td>-2.584985e-24</td>\n      <td>1.036072e-02</td>\n    </tr>\n    <tr>\n      <th>6990</th>\n      <td>-0.000283</td>\n      <td>-0.000291</td>\n      <td>-0.000278</td>\n      <td>-0.000305</td>\n      <td>-0.000274</td>\n      <td>-0.000271</td>\n      <td>-0.000328</td>\n      <td>-0.000269</td>\n      <td>-0.000265</td>\n      <td>-0.000262</td>\n      <td>...</td>\n      <td>-0.000013</td>\n      <td>0.000013</td>\n      <td>-0.000013</td>\n      <td>-0.00001</td>\n      <td>0.000009</td>\n      <td>-0.000007</td>\n      <td>0.000003</td>\n      <td>-0.000002</td>\n      <td>-2.584985e-24</td>\n      <td>1.027054e-02</td>\n    </tr>\n    <tr>\n      <th>6991</th>\n      <td>-0.000283</td>\n      <td>-0.000291</td>\n      <td>-0.000278</td>\n      <td>-0.000305</td>\n      <td>-0.000274</td>\n      <td>-0.000271</td>\n      <td>-0.000328</td>\n      <td>-0.000269</td>\n      <td>-0.000265</td>\n      <td>-0.000262</td>\n      <td>...</td>\n      <td>-0.000013</td>\n      <td>0.000013</td>\n      <td>-0.000013</td>\n      <td>-0.00001</td>\n      <td>0.000009</td>\n      <td>-0.000007</td>\n      <td>0.000003</td>\n      <td>-0.000002</td>\n      <td>-2.584985e-24</td>\n      <td>1.018036e-02</td>\n    </tr>\n    <tr>\n      <th>6992</th>\n      <td>-0.000283</td>\n      <td>-0.000291</td>\n      <td>-0.000278</td>\n      <td>-0.000305</td>\n      <td>-0.000274</td>\n      <td>-0.000271</td>\n      <td>-0.000328</td>\n      <td>-0.000269</td>\n      <td>-0.000265</td>\n      <td>-0.000262</td>\n      <td>...</td>\n      <td>-0.000013</td>\n      <td>0.000013</td>\n      <td>-0.000013</td>\n      <td>-0.00001</td>\n      <td>0.000009</td>\n      <td>-0.000007</td>\n      <td>0.000003</td>\n      <td>-0.000002</td>\n      <td>-2.584985e-24</td>\n      <td>1.009018e-02</td>\n    </tr>\n    <tr>\n      <th>6993</th>\n      <td>-0.000283</td>\n      <td>-0.000291</td>\n      <td>-0.000278</td>\n      <td>-0.000305</td>\n      <td>-0.000274</td>\n      <td>-0.000271</td>\n      <td>-0.000328</td>\n      <td>-0.000269</td>\n      <td>-0.000265</td>\n      <td>-0.000262</td>\n      <td>...</td>\n      <td>-0.000013</td>\n      <td>0.000013</td>\n      <td>-0.000013</td>\n      <td>-0.00001</td>\n      <td>0.000009</td>\n      <td>-0.000007</td>\n      <td>0.000003</td>\n      <td>-0.000002</td>\n      <td>-2.584985e-24</td>\n      <td>1.000000e-02</td>\n    </tr>\n  </tbody>\n</table>\n<p>6993 rows × 282 columns</p>\n</div>"
     },
     "execution_count": 9,
     "metadata": {},
     "output_type": "execute_result"
    }
   ],
   "source": [
    "result.columns = list(range(1, len(result.columns) + 1))\n",
    "result.index = range(1, (len(result) + 1))\n",
    "result['concentration'] = all_labels\n",
    "result"
   ],
   "metadata": {
    "collapsed": false,
    "ExecuteTime": {
     "end_time": "2023-11-10T09:26:18.891479Z",
     "start_time": "2023-11-10T09:26:18.890907Z"
    }
   }
  },
  {
   "cell_type": "code",
   "execution_count": 10,
   "outputs": [
    {
     "name": "stdout",
     "output_type": "stream",
     "text": [
      "<class 'pandas.core.series.Series'>\n",
      "RangeIndex: 6993 entries, 1 to 6993\n",
      "Series name: 280\n",
      "Non-Null Count  Dtype  \n",
      "--------------  -----  \n",
      "6993 non-null   float64\n",
      "dtypes: float64(1)\n",
      "memory usage: 54.8 KB\n",
      "<class 'pandas.core.series.Series'>\n",
      "RangeIndex: 6993 entries, 1 to 6993\n",
      "Series name: concentration\n",
      "Non-Null Count  Dtype  \n",
      "--------------  -----  \n",
      "6993 non-null   float64\n",
      "dtypes: float64(1)\n",
      "memory usage: 54.8 KB\n"
     ]
    },
    {
     "data": {
      "text/plain": "(None, None)"
     },
     "execution_count": 10,
     "metadata": {},
     "output_type": "execute_result"
    }
   ],
   "source": [
    "result[280].info(memory_usage=\"deep\"), result['concentration'].info(memory_usage=\"deep\")"
   ],
   "metadata": {
    "collapsed": false,
    "ExecuteTime": {
     "end_time": "2023-11-10T09:26:18.918184Z",
     "start_time": "2023-11-10T09:26:18.891396Z"
    }
   }
  },
  {
   "cell_type": "code",
   "execution_count": 11,
   "outputs": [
    {
     "data": {
      "text/plain": "4"
     },
     "execution_count": 11,
     "metadata": {},
     "output_type": "execute_result"
    }
   ],
   "source": [
    "result.isnull().sum().sum()"
   ],
   "metadata": {
    "collapsed": false,
    "ExecuteTime": {
     "end_time": "2023-11-10T09:26:18.918373Z",
     "start_time": "2023-11-10T09:26:18.906429Z"
    }
   }
  },
  {
   "cell_type": "code",
   "execution_count": 12,
   "outputs": [],
   "source": [
    "result.dropna(inplace=True)"
   ],
   "metadata": {
    "collapsed": false,
    "ExecuteTime": {
     "end_time": "2023-11-10T09:26:18.936131Z",
     "start_time": "2023-11-10T09:26:18.918029Z"
    }
   }
  },
  {
   "cell_type": "code",
   "execution_count": null,
   "outputs": [],
   "source": [
    "result.to_csv(\"dataset.csv\")"
   ],
   "metadata": {
    "collapsed": false
   }
  },
  {
   "cell_type": "markdown",
   "source": [
    "# Model fitting"
   ],
   "metadata": {
    "collapsed": false,
    "ExecuteTime": {
     "end_time": "2023-11-10T09:31:47.862641Z",
     "start_time": "2023-11-10T09:31:46.297260Z"
    }
   },
   "outputs": [],
   "execution_count": 21
  },
  {
   "cell_type": "code",
   "execution_count": 1,
   "outputs": [],
   "source": [
    "from sklearn.model_selection import train_test_split\n",
    "from sklearn.metrics import r2_score\n",
    "from sklearn.linear_model import LinearRegression, Lasso, Ridge\n",
    "from sklearn.svm import SVR\n",
    "from sklearn.tree import DecisionTreeRegressor\n",
    "from sklearn.ensemble import RandomForestRegressor\n",
    "from sklearn.neural_network import MLPRegressor\n",
    "from sklearn.neighbors import KNeighborsRegressor\n",
    "import pandas as pd"
   ],
   "metadata": {
    "collapsed": false,
    "ExecuteTime": {
     "end_time": "2023-11-10T10:02:09.353941Z",
     "start_time": "2023-11-10T10:01:49.856995Z"
    }
   }
  },
  {
   "cell_type": "code",
   "execution_count": 2,
   "outputs": [
    {
     "data": {
      "text/plain": "             1         2         3         4         5         6         7  \\\n1    -0.000215 -0.000225 -0.000208 -0.000232 -0.000205 -0.000208 -0.000229   \n2    -0.000215 -0.000225 -0.000208 -0.000232 -0.000205 -0.000208 -0.000229   \n3    -0.000215 -0.000225 -0.000208 -0.000232 -0.000205 -0.000208 -0.000229   \n4    -0.000215 -0.000225 -0.000208 -0.000232 -0.000205 -0.000208 -0.000229   \n5    -0.000215 -0.000225 -0.000208 -0.000232 -0.000205 -0.000208 -0.000229   \n...        ...       ...       ...       ...       ...       ...       ...   \n6989 -0.000283 -0.000291 -0.000278 -0.000305 -0.000274 -0.000271 -0.000328   \n6990 -0.000283 -0.000291 -0.000278 -0.000305 -0.000274 -0.000271 -0.000328   \n6991 -0.000283 -0.000291 -0.000278 -0.000305 -0.000274 -0.000271 -0.000328   \n6992 -0.000283 -0.000291 -0.000278 -0.000305 -0.000274 -0.000271 -0.000328   \n6993 -0.000283 -0.000291 -0.000278 -0.000305 -0.000274 -0.000271 -0.000328   \n\n             8         9        10  ...       272       273       274  \\\n1    -0.000209 -0.000209 -0.000208  ...  0.000013 -0.000013  0.000013   \n2    -0.000209 -0.000208 -0.000208  ...  0.000013 -0.000013  0.000013   \n3    -0.000209 -0.000208 -0.000208  ...  0.000013 -0.000013  0.000013   \n4    -0.000209 -0.000208 -0.000208  ...  0.000013 -0.000013  0.000013   \n5    -0.000209 -0.000208 -0.000208  ...  0.000013 -0.000013  0.000013   \n...        ...       ...       ...  ...       ...       ...       ...   \n6989 -0.000269 -0.000265 -0.000262  ...  0.000013 -0.000013  0.000013   \n6990 -0.000269 -0.000265 -0.000262  ...  0.000013 -0.000013  0.000013   \n6991 -0.000269 -0.000265 -0.000262  ...  0.000013 -0.000013  0.000013   \n6992 -0.000269 -0.000265 -0.000262  ...  0.000013 -0.000013  0.000013   \n6993 -0.000269 -0.000265 -0.000262  ...  0.000013 -0.000013  0.000013   \n\n           275      276       277       278       279       280  concentration  \n1    -0.000013 -0.00001  0.000009 -0.000007  0.000003 -0.000002   1.000000e-07  \n2    -0.000013 -0.00001  0.000009 -0.000007  0.000003 -0.000002   9.990982e-08  \n3    -0.000013 -0.00001  0.000009 -0.000007  0.000003 -0.000002   9.981964e-08  \n4    -0.000013 -0.00001  0.000009 -0.000007  0.000003 -0.000002   9.972946e-08  \n5    -0.000013 -0.00001  0.000009 -0.000007  0.000003 -0.000002   9.963928e-08  \n...        ...      ...       ...       ...       ...       ...            ...  \n6989 -0.000013 -0.00001  0.000009 -0.000007  0.000003 -0.000002   1.036072e-02  \n6990 -0.000013 -0.00001  0.000009 -0.000007  0.000003 -0.000002   1.027054e-02  \n6991 -0.000013 -0.00001  0.000009 -0.000007  0.000003 -0.000002   1.018036e-02  \n6992 -0.000013 -0.00001  0.000009 -0.000007  0.000003 -0.000002   1.009018e-02  \n6993 -0.000013 -0.00001  0.000009 -0.000007  0.000003 -0.000002   1.000000e-02  \n\n[6989 rows x 281 columns]",
      "text/html": "<div>\n<style scoped>\n    .dataframe tbody tr th:only-of-type {\n        vertical-align: middle;\n    }\n\n    .dataframe tbody tr th {\n        vertical-align: top;\n    }\n\n    .dataframe thead th {\n        text-align: right;\n    }\n</style>\n<table border=\"1\" class=\"dataframe\">\n  <thead>\n    <tr style=\"text-align: right;\">\n      <th></th>\n      <th>1</th>\n      <th>2</th>\n      <th>3</th>\n      <th>4</th>\n      <th>5</th>\n      <th>6</th>\n      <th>7</th>\n      <th>8</th>\n      <th>9</th>\n      <th>10</th>\n      <th>...</th>\n      <th>272</th>\n      <th>273</th>\n      <th>274</th>\n      <th>275</th>\n      <th>276</th>\n      <th>277</th>\n      <th>278</th>\n      <th>279</th>\n      <th>280</th>\n      <th>concentration</th>\n    </tr>\n  </thead>\n  <tbody>\n    <tr>\n      <th>1</th>\n      <td>-0.000215</td>\n      <td>-0.000225</td>\n      <td>-0.000208</td>\n      <td>-0.000232</td>\n      <td>-0.000205</td>\n      <td>-0.000208</td>\n      <td>-0.000229</td>\n      <td>-0.000209</td>\n      <td>-0.000209</td>\n      <td>-0.000208</td>\n      <td>...</td>\n      <td>0.000013</td>\n      <td>-0.000013</td>\n      <td>0.000013</td>\n      <td>-0.000013</td>\n      <td>-0.00001</td>\n      <td>0.000009</td>\n      <td>-0.000007</td>\n      <td>0.000003</td>\n      <td>-0.000002</td>\n      <td>1.000000e-07</td>\n    </tr>\n    <tr>\n      <th>2</th>\n      <td>-0.000215</td>\n      <td>-0.000225</td>\n      <td>-0.000208</td>\n      <td>-0.000232</td>\n      <td>-0.000205</td>\n      <td>-0.000208</td>\n      <td>-0.000229</td>\n      <td>-0.000209</td>\n      <td>-0.000208</td>\n      <td>-0.000208</td>\n      <td>...</td>\n      <td>0.000013</td>\n      <td>-0.000013</td>\n      <td>0.000013</td>\n      <td>-0.000013</td>\n      <td>-0.00001</td>\n      <td>0.000009</td>\n      <td>-0.000007</td>\n      <td>0.000003</td>\n      <td>-0.000002</td>\n      <td>9.990982e-08</td>\n    </tr>\n    <tr>\n      <th>3</th>\n      <td>-0.000215</td>\n      <td>-0.000225</td>\n      <td>-0.000208</td>\n      <td>-0.000232</td>\n      <td>-0.000205</td>\n      <td>-0.000208</td>\n      <td>-0.000229</td>\n      <td>-0.000209</td>\n      <td>-0.000208</td>\n      <td>-0.000208</td>\n      <td>...</td>\n      <td>0.000013</td>\n      <td>-0.000013</td>\n      <td>0.000013</td>\n      <td>-0.000013</td>\n      <td>-0.00001</td>\n      <td>0.000009</td>\n      <td>-0.000007</td>\n      <td>0.000003</td>\n      <td>-0.000002</td>\n      <td>9.981964e-08</td>\n    </tr>\n    <tr>\n      <th>4</th>\n      <td>-0.000215</td>\n      <td>-0.000225</td>\n      <td>-0.000208</td>\n      <td>-0.000232</td>\n      <td>-0.000205</td>\n      <td>-0.000208</td>\n      <td>-0.000229</td>\n      <td>-0.000209</td>\n      <td>-0.000208</td>\n      <td>-0.000208</td>\n      <td>...</td>\n      <td>0.000013</td>\n      <td>-0.000013</td>\n      <td>0.000013</td>\n      <td>-0.000013</td>\n      <td>-0.00001</td>\n      <td>0.000009</td>\n      <td>-0.000007</td>\n      <td>0.000003</td>\n      <td>-0.000002</td>\n      <td>9.972946e-08</td>\n    </tr>\n    <tr>\n      <th>5</th>\n      <td>-0.000215</td>\n      <td>-0.000225</td>\n      <td>-0.000208</td>\n      <td>-0.000232</td>\n      <td>-0.000205</td>\n      <td>-0.000208</td>\n      <td>-0.000229</td>\n      <td>-0.000209</td>\n      <td>-0.000208</td>\n      <td>-0.000208</td>\n      <td>...</td>\n      <td>0.000013</td>\n      <td>-0.000013</td>\n      <td>0.000013</td>\n      <td>-0.000013</td>\n      <td>-0.00001</td>\n      <td>0.000009</td>\n      <td>-0.000007</td>\n      <td>0.000003</td>\n      <td>-0.000002</td>\n      <td>9.963928e-08</td>\n    </tr>\n    <tr>\n      <th>...</th>\n      <td>...</td>\n      <td>...</td>\n      <td>...</td>\n      <td>...</td>\n      <td>...</td>\n      <td>...</td>\n      <td>...</td>\n      <td>...</td>\n      <td>...</td>\n      <td>...</td>\n      <td>...</td>\n      <td>...</td>\n      <td>...</td>\n      <td>...</td>\n      <td>...</td>\n      <td>...</td>\n      <td>...</td>\n      <td>...</td>\n      <td>...</td>\n      <td>...</td>\n      <td>...</td>\n    </tr>\n    <tr>\n      <th>6989</th>\n      <td>-0.000283</td>\n      <td>-0.000291</td>\n      <td>-0.000278</td>\n      <td>-0.000305</td>\n      <td>-0.000274</td>\n      <td>-0.000271</td>\n      <td>-0.000328</td>\n      <td>-0.000269</td>\n      <td>-0.000265</td>\n      <td>-0.000262</td>\n      <td>...</td>\n      <td>0.000013</td>\n      <td>-0.000013</td>\n      <td>0.000013</td>\n      <td>-0.000013</td>\n      <td>-0.00001</td>\n      <td>0.000009</td>\n      <td>-0.000007</td>\n      <td>0.000003</td>\n      <td>-0.000002</td>\n      <td>1.036072e-02</td>\n    </tr>\n    <tr>\n      <th>6990</th>\n      <td>-0.000283</td>\n      <td>-0.000291</td>\n      <td>-0.000278</td>\n      <td>-0.000305</td>\n      <td>-0.000274</td>\n      <td>-0.000271</td>\n      <td>-0.000328</td>\n      <td>-0.000269</td>\n      <td>-0.000265</td>\n      <td>-0.000262</td>\n      <td>...</td>\n      <td>0.000013</td>\n      <td>-0.000013</td>\n      <td>0.000013</td>\n      <td>-0.000013</td>\n      <td>-0.00001</td>\n      <td>0.000009</td>\n      <td>-0.000007</td>\n      <td>0.000003</td>\n      <td>-0.000002</td>\n      <td>1.027054e-02</td>\n    </tr>\n    <tr>\n      <th>6991</th>\n      <td>-0.000283</td>\n      <td>-0.000291</td>\n      <td>-0.000278</td>\n      <td>-0.000305</td>\n      <td>-0.000274</td>\n      <td>-0.000271</td>\n      <td>-0.000328</td>\n      <td>-0.000269</td>\n      <td>-0.000265</td>\n      <td>-0.000262</td>\n      <td>...</td>\n      <td>0.000013</td>\n      <td>-0.000013</td>\n      <td>0.000013</td>\n      <td>-0.000013</td>\n      <td>-0.00001</td>\n      <td>0.000009</td>\n      <td>-0.000007</td>\n      <td>0.000003</td>\n      <td>-0.000002</td>\n      <td>1.018036e-02</td>\n    </tr>\n    <tr>\n      <th>6992</th>\n      <td>-0.000283</td>\n      <td>-0.000291</td>\n      <td>-0.000278</td>\n      <td>-0.000305</td>\n      <td>-0.000274</td>\n      <td>-0.000271</td>\n      <td>-0.000328</td>\n      <td>-0.000269</td>\n      <td>-0.000265</td>\n      <td>-0.000262</td>\n      <td>...</td>\n      <td>0.000013</td>\n      <td>-0.000013</td>\n      <td>0.000013</td>\n      <td>-0.000013</td>\n      <td>-0.00001</td>\n      <td>0.000009</td>\n      <td>-0.000007</td>\n      <td>0.000003</td>\n      <td>-0.000002</td>\n      <td>1.009018e-02</td>\n    </tr>\n    <tr>\n      <th>6993</th>\n      <td>-0.000283</td>\n      <td>-0.000291</td>\n      <td>-0.000278</td>\n      <td>-0.000305</td>\n      <td>-0.000274</td>\n      <td>-0.000271</td>\n      <td>-0.000328</td>\n      <td>-0.000269</td>\n      <td>-0.000265</td>\n      <td>-0.000262</td>\n      <td>...</td>\n      <td>0.000013</td>\n      <td>-0.000013</td>\n      <td>0.000013</td>\n      <td>-0.000013</td>\n      <td>-0.00001</td>\n      <td>0.000009</td>\n      <td>-0.000007</td>\n      <td>0.000003</td>\n      <td>-0.000002</td>\n      <td>1.000000e-02</td>\n    </tr>\n  </tbody>\n</table>\n<p>6989 rows × 281 columns</p>\n</div>"
     },
     "execution_count": 2,
     "metadata": {},
     "output_type": "execute_result"
    }
   ],
   "source": [
    "result = pd.read_csv('dataset.csv', index_col=[0])\n",
    "result.drop(columns='281', axis=1)"
   ],
   "metadata": {
    "collapsed": false,
    "ExecuteTime": {
     "end_time": "2023-11-10T10:02:21.069525Z",
     "start_time": "2023-11-10T10:02:20.841956Z"
    }
   }
  },
  {
   "cell_type": "code",
   "execution_count": 3,
   "outputs": [],
   "source": [
    "X_data = result.drop('concentration', axis=1)\n",
    "y_data = result['concentration']\n",
    "X_train, X_test, y_train, y_test = train_test_split(X_data, y_data, test_size=0.2, random_state=42)"
   ],
   "metadata": {
    "collapsed": false,
    "ExecuteTime": {
     "end_time": "2023-11-10T10:02:22.435618Z",
     "start_time": "2023-11-10T10:02:22.420082Z"
    }
   }
  },
  {
   "cell_type": "code",
   "execution_count": 4,
   "outputs": [],
   "source": [
    "model_Linear = LinearRegression()"
   ],
   "metadata": {
    "collapsed": false,
    "ExecuteTime": {
     "end_time": "2023-11-10T10:02:23.719321Z",
     "start_time": "2023-11-10T10:02:23.714119Z"
    }
   }
  },
  {
   "cell_type": "code",
   "execution_count": 5,
   "outputs": [
    {
     "name": "stdout",
     "output_type": "stream",
     "text": [
      "R2 score for LinearRegression =  0.9730915391876971\n",
      "R2 score for LinearRegression = 0.971613853212797\n"
     ]
    }
   ],
   "source": [
    "model_Linear.fit(X_train, y_train)\n",
    "pred_train_Linear = model_Linear.predict(X_train)\n",
    "pred_test_Linear = model_Linear.predict(X_test)\n",
    "print(f'R2 score for LinearRegression =  {r2_score(y_train, pred_train_Linear)}')\n",
    "print(f'R2 score for LinearRegression = {r2_score(y_test, pred_test_Linear)}')"
   ],
   "metadata": {
    "collapsed": false,
    "ExecuteTime": {
     "end_time": "2023-11-10T10:02:24.581073Z",
     "start_time": "2023-11-10T10:02:24.392795Z"
    }
   }
  },
  {
   "cell_type": "code",
   "execution_count": 6,
   "outputs": [
    {
     "name": "stdout",
     "output_type": "stream",
     "text": [
      "R2 score for Lasso =  0.0\n",
      "R2 score for Lasso =  -7.71601824793855e-05\n"
     ]
    }
   ],
   "source": [
    "model_Lasso = Lasso()\n",
    "model_Lasso.fit(X_train,y_train)\n",
    "\n",
    "pred_train_Lasso = model_Lasso.predict(X_train)\n",
    "pred_test_Lasso = model_Lasso.predict(X_test)\n",
    "print(f'R2 score for Lasso =  {r2_score(y_train,pred_train_Lasso)}')\n",
    "print(f'R2 score for Lasso =  {r2_score(y_test, pred_test_Lasso)}')"
   ],
   "metadata": {
    "collapsed": false,
    "ExecuteTime": {
     "end_time": "2023-11-10T12:02:23.741251Z",
     "start_time": "2023-11-10T12:02:23.561163Z"
    }
   }
  },
  {
   "cell_type": "code",
   "execution_count": 7,
   "outputs": [
    {
     "name": "stdout",
     "output_type": "stream",
     "text": [
      "R2 score for Ridge =  0.18222483985278115\n",
      "R2 score for Ridge =  0.18004740378562079\n"
     ]
    }
   ],
   "source": [
    "model_Ridge = Ridge()\n",
    "model_Ridge.fit(X_train,y_train)\n",
    "\n",
    "pred_train_Ridge = model_Ridge.predict(X_train)\n",
    "pred_test_Ridge = model_Ridge.predict(X_test)\n",
    "print(f'R2 score for Ridge =  {r2_score(y_train,pred_train_Ridge)}')\n",
    "print(f'R2 score for Ridge =  {r2_score(y_test, pred_test_Ridge)}')"
   ],
   "metadata": {
    "collapsed": false,
    "ExecuteTime": {
     "end_time": "2023-11-10T12:02:26.626410Z",
     "start_time": "2023-11-10T12:02:26.190052Z"
    }
   }
  },
  {
   "cell_type": "code",
   "execution_count": 8,
   "outputs": [
    {
     "name": "stdout",
     "output_type": "stream",
     "text": [
      "R2 score for SVR =  -3.7575034934850624\n",
      "R2 score for SVR =  -3.5622774882727164\n"
     ]
    }
   ],
   "source": [
    "model_SVR = SVR()\n",
    "model_SVR.fit(X_train,y_train)\n",
    "\n",
    "pred_train_SVR = model_SVR.predict(X_train)\n",
    "pred_test_SVR = model_SVR.predict(X_test)\n",
    "print(f'R2 score for SVR =  {r2_score(y_train,pred_train_SVR)}')\n",
    "print(f'R2 score for SVR =  {r2_score(y_test, pred_test_SVR)}')"
   ],
   "metadata": {
    "collapsed": false,
    "ExecuteTime": {
     "end_time": "2023-11-10T12:02:46.257384Z",
     "start_time": "2023-11-10T12:02:46.240962Z"
    }
   }
  },
  {
   "cell_type": "code",
   "execution_count": 9,
   "outputs": [
    {
     "name": "stdout",
     "output_type": "stream",
     "text": [
      "R2 score for DecisionTree =  0.9974275967394044\n",
      "R2 score for DecisionTree =  0.9974893634222682\n"
     ]
    }
   ],
   "source": [
    "model_DecisionTree = DecisionTreeRegressor()\n",
    "model_DecisionTree.fit(X_train,y_train)\n",
    "\n",
    "pred_train_DecisionTree = model_DecisionTree.predict(X_train)\n",
    "pred_test_DecisionTree = model_DecisionTree.predict(X_test)\n",
    "print(f'R2 score for DecisionTree =  {r2_score(y_train,pred_train_DecisionTree)}')\n",
    "print(f'R2 score for DecisionTree =  {r2_score(y_test, pred_test_DecisionTree)}')"
   ],
   "metadata": {
    "collapsed": false,
    "ExecuteTime": {
     "end_time": "2023-11-10T12:02:56.156378Z",
     "start_time": "2023-11-10T12:02:55.458547Z"
    }
   }
  },
  {
   "cell_type": "code",
   "execution_count": 10,
   "outputs": [
    {
     "name": "stdout",
     "output_type": "stream",
     "text": [
      "R2 score for RandomForest =  0.9999896265264449\n",
      "R2 score for RandomForest =  0.9999900014421625\n"
     ]
    }
   ],
   "source": [
    "model_RF = RandomForestRegressor()\n",
    "model_RF.fit(X_train, y_train)\n",
    "\n",
    "pred_train_RF = model_RF.predict(X_train)\n",
    "pred_test_RF = model_RF.predict(X_test)\n",
    "print(f'R2 score for RandomForest =  {r2_score(y_train,pred_train_RF)}')\n",
    "print(f'R2 score for RandomForest =  {r2_score(y_test, pred_test_RF)}')"
   ],
   "metadata": {
    "collapsed": false,
    "ExecuteTime": {
     "end_time": "2023-11-10T12:03:50.165507Z",
     "start_time": "2023-11-10T12:03:09.499303Z"
    }
   }
  },
  {
   "cell_type": "code",
   "execution_count": 11,
   "outputs": [
    {
     "name": "stdout",
     "output_type": "stream",
     "text": [
      "R2 score for MLP =  0.8171696235976096\n",
      "R2 score for MLP =  0.8024132051403535\n"
     ]
    }
   ],
   "source": [
    "model_MLP = MLPRegressor()\n",
    "model_MLP.fit(X_train, y_train)\n",
    "\n",
    "pred_train_MLP = model_MLP.predict(X_train)\n",
    "pred_test_MLP = model_MLP.predict(X_test)\n",
    "print(f'R2 score for MLP =  {r2_score(y_train,pred_train_MLP)}')\n",
    "print(f'R2 score for MLP =  {r2_score(y_test, pred_test_MLP)}')"
   ],
   "metadata": {
    "collapsed": false,
    "ExecuteTime": {
     "end_time": "2023-11-10T12:04:07.209469Z",
     "start_time": "2023-11-10T12:04:06.115424Z"
    }
   }
  },
  {
   "cell_type": "code",
   "execution_count": 12,
   "outputs": [
    {
     "name": "stdout",
     "output_type": "stream",
     "text": [
      "R2 score for KNN =  0.9999979064209061\n",
      "R2 score for KNN =  0.9999952379343245\n"
     ]
    }
   ],
   "source": [
    "model_KNN = KNeighborsRegressor()\n",
    "model_KNN.fit(X_train, y_train)\n",
    "\n",
    "pred_train_KNN = model_KNN.predict(X_train)\n",
    "pred_test_KNN = model_KNN.predict(X_test)\n",
    "print(f'R2 score for KNN =  {r2_score(y_train,pred_train_KNN)}')\n",
    "print(f'R2 score for KNN =  {r2_score(y_test, pred_test_KNN)}')"
   ],
   "metadata": {
    "collapsed": false,
    "ExecuteTime": {
     "end_time": "2023-11-10T12:04:08.209926Z",
     "start_time": "2023-11-10T12:04:07.214967Z"
    }
   }
  },
  {
   "cell_type": "code",
   "execution_count": 13,
   "outputs": [
    {
     "name": "stdout",
     "output_type": "stream",
     "text": [
      "R2 score for KNN =  0.9999979064209061\n",
      "R2 score for KNN =  0.9999952379343245\n"
     ]
    }
   ],
   "source": [
    "model_KNN = KNeighborsRegressor()\n",
    "model_KNN.fit(X_train, y_train)\n",
    "\n",
    "pred_train_KNN = model_KNN.predict(X_train)\n",
    "pred_test_KNN = model_KNN.predict(X_test)\n",
    "print(f'R2 score for KNN =  {r2_score(y_train,pred_train_KNN)}')\n",
    "print(f'R2 score for KNN =  {r2_score(y_test, pred_test_KNN)}')"
   ],
   "metadata": {
    "collapsed": false,
    "ExecuteTime": {
     "end_time": "2023-11-10T12:04:08.404925Z",
     "start_time": "2023-11-10T12:04:08.212272Z"
    }
   }
  },
  {
   "cell_type": "code",
   "execution_count": null,
   "outputs": [],
   "source": [],
   "metadata": {
    "collapsed": false
   }
  }
 ],
 "metadata": {
  "kernelspec": {
   "display_name": "Python 3",
   "language": "python",
   "name": "python3"
  },
  "language_info": {
   "codemirror_mode": {
    "name": "ipython",
    "version": 2
   },
   "file_extension": ".py",
   "mimetype": "text/x-python",
   "name": "python",
   "nbconvert_exporter": "python",
   "pygments_lexer": "ipython2",
   "version": "2.7.6"
  }
 },
 "nbformat": 4,
 "nbformat_minor": 0
}
